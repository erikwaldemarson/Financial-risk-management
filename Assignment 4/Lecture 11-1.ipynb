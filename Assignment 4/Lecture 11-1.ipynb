{
 "cells": [
  {
   "cell_type": "markdown",
   "id": "e667c6e3",
   "metadata": {},
   "source": [
    "# Transition matrices and Credit Metrics\n"
   ]
  },
  {
   "cell_type": "code",
   "execution_count": 1,
   "id": "0bfe64d0",
   "metadata": {},
   "outputs": [],
   "source": [
    "#Import packages\n",
    "import pandas as pd\n",
    "import numpy as np\n",
    "import scipy \n",
    "from scipy.stats import norm\n",
    "\n",
    "\n",
    "from matplotlib import pyplot as plt\n",
    "import statsmodels.formula.api as smf\n",
    "import statsmodels.api as sm\n"
   ]
  },
  {
   "cell_type": "code",
   "execution_count": 2,
   "id": "97373d4a",
   "metadata": {},
   "outputs": [
    {
     "name": "stdout",
     "output_type": "stream",
     "text": [
      "  Rating    AAA     AA      A    BBB     BB      B    CCC       D\n",
      "0    AAA  90.81   8.33   0.68   0.06   0.12   0.00   0.00    0.00\n",
      "1     AA   0.70  90.65   7.79   0.64   0.06   0.14   0.02    0.00\n",
      "2      A   0.09   2.27  91.05   5.52   0.74   0.26   0.01    0.06\n",
      "3    BBB   0.02   0.33   5.95  86.93   5.30   1.17   0.12    0.18\n",
      "4     BB   0.03   0.14   0.67   7.73  80.53   8.84   1.00    1.06\n",
      "5      B   0.00   0.11   0.24   0.43   6.48  83.46   4.07    5.20\n",
      "6    CCC   0.22   0.00   0.22   1.30   2.38  11.24  64.86   19.79\n",
      "7      D   0.00   0.00   0.00   0.00   0.00   0.00   0.00  100.00\n"
     ]
    }
   ],
   "source": [
    "# Read Excel file with transition probabilities\n",
    "table = pd.read_excel('MigrationTable.xlsx')\n",
    "print(table)\n",
    "\n",
    "\n",
    "\n",
    "\n"
   ]
  },
  {
   "cell_type": "markdown",
   "id": "9f6f578f",
   "metadata": {},
   "source": [
    "## Transition matrices - Swiching time horizon\n",
    "Background is Hull 19.1 Rating Transition matrices"
   ]
  },
  {
   "cell_type": "code",
   "execution_count": 3,
   "id": "5556110c",
   "metadata": {},
   "outputs": [
    {
     "name": "stdout",
     "output_type": "stream",
     "text": [
      "This is the one year transition matrix\n",
      "[[0.9081 0.0833 0.0068 0.0006 0.0012 0.     0.     0.    ]\n",
      " [0.007  0.9065 0.0779 0.0064 0.0006 0.0014 0.0002 0.    ]\n",
      " [0.0009 0.0227 0.9105 0.0552 0.0074 0.0026 0.0001 0.0006]\n",
      " [0.0002 0.0033 0.0595 0.8693 0.053  0.0117 0.0012 0.0018]\n",
      " [0.0003 0.0014 0.0067 0.0773 0.8053 0.0884 0.01   0.0106]\n",
      " [0.     0.0011 0.0024 0.0043 0.0648 0.8346 0.0407 0.052 ]\n",
      " [0.0022 0.     0.0022 0.013  0.0238 0.1124 0.6486 0.1979]\n",
      " [0.     0.     0.     0.     0.     0.     0.     1.    ]]\n",
      "\n",
      " This is the five year transition matrix\n",
      "[[0.622  0.2851 0.073  0.0121 0.0051 0.002  0.0003 0.0004]\n",
      " [0.0244 0.6302 0.2722 0.0523 0.0103 0.0076 0.001  0.0018]\n",
      " [0.0044 0.0804 0.6641 0.1823 0.0416 0.0187 0.0021 0.0064]\n",
      " [0.0014 0.0211 0.1957 0.5463 0.1435 0.0625 0.0084 0.021 ]\n",
      " [0.0013 0.0083 0.0516 0.2038 0.3968 0.2194 0.0322 0.0867]\n",
      " [0.0007 0.0047 0.0153 0.0459 0.159  0.4609 0.0691 0.244 ]\n",
      " [0.0044 0.0027 0.0126 0.0391 0.0728 0.1933 0.1334 0.5417]\n",
      " [0.     0.     0.     0.     0.     0.     0.     1.    ]]\n",
      "\n",
      " This is the one month transition matrix\n",
      "[[ 0.992   0.0076  0.0003  0.      0.0001 -0.     -0.     -0.    ]\n",
      " [ 0.0006  0.9917  0.0071  0.0004  0.      0.0001  0.     -0.    ]\n",
      " [ 0.0001  0.0021  0.992   0.0051  0.0006  0.0002 -0.      0.    ]\n",
      " [ 0.      0.0002  0.0055  0.988   0.0052  0.0009  0.0001  0.0001]\n",
      " [ 0.      0.0001  0.0004  0.0076  0.9816  0.0088  0.0009  0.0007]\n",
      " [-0.      0.0001  0.0002  0.0001  0.0064  0.9844  0.0045  0.0042]\n",
      " [ 0.0002 -0.      0.0002  0.0013  0.0022  0.0123  0.9642  0.0197]\n",
      " [ 0.      0.      0.      0.      0.      0.      0.      1.    ]]\n",
      "\n",
      " This is the five thousand year transition matrix\n",
      "[[0.     0.     0.     0.     0.     0.     0.     0.9992]\n",
      " [0.     0.     0.     0.     0.     0.     0.     0.9992]\n",
      " [0.     0.     0.     0.     0.     0.     0.     0.9992]\n",
      " [0.     0.     0.     0.     0.     0.     0.     0.9992]\n",
      " [0.     0.     0.     0.     0.     0.     0.     0.9992]\n",
      " [0.     0.     0.     0.     0.     0.     0.     0.999 ]\n",
      " [0.     0.     0.     0.     0.     0.     0.     0.9999]\n",
      " [0.     0.     0.     0.     0.     0.     0.     1.    ]]\n"
     ]
    }
   ],
   "source": [
    "one_year_tm = table.iloc[:,1:].to_numpy()/100\n",
    "np.set_printoptions(precision=4,suppress=True) # Print using non scientific notation\n",
    "print(\"This is the one year transition matrix\")\n",
    "print(one_year_tm)\n",
    "\n",
    "five_year_tm = np.linalg.matrix_power(one_year_tm,5)\n",
    "print(\"\\n This is the five year transition matrix\")\n",
    "print(five_year_tm)\n",
    "\n",
    "one_month_tm = scipy.linalg.fractional_matrix_power(one_year_tm,1/12)\n",
    "print(\"\\n This is the one month transition matrix\")\n",
    "print(one_month_tm) # Appendix J in Hull (- sign is due to some numerical approximation error)\n",
    "\n",
    "five_thousand_year_tm = np.linalg.matrix_power(one_year_tm,50000)\n",
    "print(\"\\n This is the five thousand year transition matrix\")\n",
    "print(five_thousand_year_tm) # % In the long-run we are all dead"
   ]
  },
  {
   "cell_type": "markdown",
   "id": "ef8b5be2",
   "metadata": {},
   "source": [
    "## Pieces of Credit metrics\n",
    "This code gives you some pieces you need for Computer exercise 4 in which you will implement the Credit Metrics model with Monte Carlo simulation\n",
    "### Quantiles from Transition matrix\n",
    "How to replicate the quantiles calculated at VL16 slide 5"
   ]
  },
  {
   "cell_type": "code",
   "execution_count": 4,
   "id": "9cd46801",
   "metadata": {},
   "outputs": [
    {
     "name": "stdout",
     "output_type": "stream",
     "text": [
      "[0.0018 0.003  0.0147 0.0677 0.937  0.9965 0.9998 1.    ]\n"
     ]
    }
   ],
   "source": [
    "cumulative_probs_BBB = np.cumsum(np.flip(one_year_tm[3,:]))\n",
    "print(cumulative_probs_BBB)"
   ]
  },
  {
   "cell_type": "markdown",
   "id": "ab527c27",
   "metadata": {},
   "source": [
    "So 0.0018 is prob of moving from BBB to D, 0.0030 is prob of moving from BBB to CCC or lower,... 1 is prob of moving from BBB to AAA or lower"
   ]
  },
  {
   "cell_type": "code",
   "execution_count": 5,
   "id": "46f66f4d",
   "metadata": {},
   "outputs": [
    {
     "name": "stdout",
     "output_type": "stream",
     "text": [
      "[-2.9112 -2.7478 -2.1781 -1.4931  1.5301  2.6968  3.5401]\n"
     ]
    }
   ],
   "source": [
    "quantiles_BBB = norm.ppf(cumulative_probs_BBB[:-1]) # Skipping the upper bound for AAA since it is infinity\n",
    "print(quantiles_BBB)"
   ]
  },
  {
   "cell_type": "markdown",
   "id": "997d859a",
   "metadata": {},
   "source": [
    "Interpretation is that a number <-2.91 means a bond ends up in D. >3.54 in AAA, between -1.49 and 1.53 stays in BBB etc.\n",
    "The quantiles gives us a distribution based on the transition matrix to simulate credit risk. If you draw"
   ]
  },
  {
   "cell_type": "code",
   "execution_count": 6,
   "id": "0c4a4949",
   "metadata": {},
   "outputs": [
    {
     "name": "stdout",
     "output_type": "stream",
     "text": [
      "[1.6243]\n"
     ]
    }
   ],
   "source": [
    "np.random.seed(1) # Set random seed for reproducability\n",
    "x1 = np.random.normal(0, 1, 1) # One standard normal variable\n",
    "print(x1)"
   ]
  },
  {
   "cell_type": "markdown",
   "id": "1a43eda1",
   "metadata": {},
   "source": [
    "1.6243 means the bond is upgraded to A"
   ]
  },
  {
   "cell_type": "markdown",
   "id": "201e673e",
   "metadata": {},
   "source": [
    "## Generating correlated random numbers\n",
    "It is generally hard (involving copulas) to generate correlation between two random variables X1 and X2. Easier when X1 and X2 are Gaussian as in credit metrics."
   ]
  },
  {
   "cell_type": "code",
   "execution_count": 7,
   "id": "05638a0b",
   "metadata": {},
   "outputs": [],
   "source": [
    "np.random.seed(1) # Set random seed for reproducability\n",
    "x1 = np.random.normal(0,1,100000) # 100,000 random numbers\n",
    "x2 = np.random.normal(0,1,100000) # Another 100,000 random numbers\n"
   ]
  },
  {
   "cell_type": "markdown",
   "id": "f7daa6b1",
   "metadata": {},
   "source": [
    "x1 and x2 are independent (for Gussian random variables uncorrelated implies independent) by construction but we check just in case"
   ]
  },
  {
   "cell_type": "code",
   "execution_count": 8,
   "id": "038a55dc",
   "metadata": {},
   "outputs": [
    {
     "name": "stdout",
     "output_type": "stream",
     "text": [
      "PearsonRResult(statistic=-0.005551580831574797, pvalue=0.0791643214605501)\n"
     ]
    }
   ],
   "source": [
    "print(scipy.stats.pearsonr(x1, x2)) # Correlation and p-stat for null of correlation=0\n"
   ]
  },
  {
   "cell_type": "markdown",
   "id": "8d0da2e8",
   "metadata": {},
   "source": [
    "## Don't do this"
   ]
  },
  {
   "cell_type": "code",
   "execution_count": 9,
   "id": "e57f5fcc",
   "metadata": {},
   "outputs": [
    {
     "name": "stdout",
     "output_type": "stream",
     "text": [
      "PearsonRResult(statistic=0.9999999999999999, pvalue=0.0)\n"
     ]
    }
   ],
   "source": [
    "np.random.seed(1) # Set random seed for reproducability\n",
    "x1 = np.random.normal(0,1,100000) # 100,000 random numbers\n",
    "np.random.seed(1) # Set random seed for reproducability\n",
    "x2 = np.random.normal(0,1,100000) # Another 100,000 random numbers\n",
    "print(scipy.stats.pearsonr(x1, x2)) # Correlation and p-stat for null of correlation=0"
   ]
  },
  {
   "cell_type": "markdown",
   "id": "029f72e9",
   "metadata": {},
   "source": [
    "Perfect correlation since you generate the same random numbers twice (computer generated \"random\" numbers are deterministic). \n"
   ]
  },
  {
   "cell_type": "markdown",
   "id": "3d60e80d",
   "metadata": {},
   "source": [
    "## Make q1 and q2 correlated with R=0.35"
   ]
  },
  {
   "cell_type": "code",
   "execution_count": 10,
   "id": "a14c9e06",
   "metadata": {},
   "outputs": [
    {
     "name": "stdout",
     "output_type": "stream",
     "text": [
      "PearsonRResult(statistic=0.3470917840328057, pvalue=0.0)\n"
     ]
    }
   ],
   "source": [
    "x1 = np.random.normal(0,1,100000) # 100,000 random numbers\n",
    "x2 = np.random.normal(0,1,100000) # Another 100,000 random numbers\n",
    "R = 0.35\n",
    "q1 = x1\n",
    "q2 = R*x1+np.sqrt(1-R**2)*x2 # Cholesky decomposition VL16 slides 13-15\n",
    "print(scipy.stats.pearsonr(q1, q2)) # Correlation and p-stat for null of correlation=0"
   ]
  },
  {
   "cell_type": "markdown",
   "id": "65f83ca3",
   "metadata": {},
   "source": [
    "Another way to do this is with the Multivariate Normal distribution, with this method we can easily increase the number of bonds and have different correlations between different bonds"
   ]
  },
  {
   "cell_type": "code",
   "execution_count": 11,
   "id": "90b2653a",
   "metadata": {},
   "outputs": [],
   "source": [
    "mu = [0,0]\n",
    "cov = [[1, R], [R, 1]] # 2x2 Covariance matrix\n",
    "x, y = np.random.multivariate_normal(mu, cov, 100000).T # .T puts results in two variables"
   ]
  },
  {
   "cell_type": "markdown",
   "id": "4e082ce4",
   "metadata": {},
   "source": [
    "Covariance equals correlation since we have standardized varibles (standardized log asset value in Credit Metrics is N(0,1))"
   ]
  },
  {
   "cell_type": "code",
   "execution_count": 12,
   "id": "6d11eaa5",
   "metadata": {},
   "outputs": [
    {
     "name": "stdout",
     "output_type": "stream",
     "text": [
      "PearsonRResult(statistic=0.34770129745454337, pvalue=0.0)\n"
     ]
    }
   ],
   "source": [
    "print(scipy.stats.pearsonr(x, y)) # Correlation and p-stat for null of correlation=0"
   ]
  },
  {
   "cell_type": "code",
   "execution_count": null,
   "id": "48d4a78a",
   "metadata": {},
   "outputs": [],
   "source": []
  }
 ],
 "metadata": {
  "kernelspec": {
   "display_name": "Python 3 (ipykernel)",
   "language": "python",
   "name": "python3"
  },
  "language_info": {
   "codemirror_mode": {
    "name": "ipython",
    "version": 3
   },
   "file_extension": ".py",
   "mimetype": "text/x-python",
   "name": "python",
   "nbconvert_exporter": "python",
   "pygments_lexer": "ipython3",
   "version": "3.9.13"
  }
 },
 "nbformat": 4,
 "nbformat_minor": 5
}
