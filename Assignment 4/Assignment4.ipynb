{
 "cells": [
  {
   "cell_type": "code",
   "execution_count": 10,
   "metadata": {},
   "outputs": [],
   "source": [
    "#Import packages\n",
    "import pandas as pd\n",
    "import numpy as np\n",
    "import scipy\n",
    "from scipy import stats\n",
    "from scipy.stats import norm\n",
    "from matplotlib import pyplot as plt\n",
    "from scipy.optimize import minimize\n",
    "from decimal import Decimal\n"
   ]
  },
  {
   "cell_type": "code",
   "execution_count": 11,
   "metadata": {},
   "outputs": [
    {
     "name": "stdout",
     "output_type": "stream",
     "text": [
      "  Rating  Prob_Loan_BBB  Loss_BBB  Prob_Loan_A  Loss_A\n",
      "0    AAA         0.0002     -2.28       0.0009   -0.45\n",
      "1     AA         0.0033     -2.10       0.0227   -0.23\n",
      "2      A         0.0595     -1.57       0.9105   -0.12\n",
      "3    BBB         0.8693     -0.46       0.0552    1.08\n",
      "4     BB         0.0530      5.07       0.0074    3.16\n",
      "5      B         0.0117      8.99       0.0026    5.56\n",
      "6    CCC         0.0012     23.45       0.0001   18.78\n",
      "7      D         0.0018     55.96       0.0006   55.96\n"
     ]
    }
   ],
   "source": [
    "# Read CSV files\n",
    "data = pd.read_csv('DataLab4.csv')\n",
    "# data is of different frequency so I keep it in seperate dataframes\n",
    "print(data)"
   ]
  },
  {
   "cell_type": "code",
   "execution_count": 12,
   "metadata": {},
   "outputs": [
    {
     "name": "stdout",
     "output_type": "stream",
     "text": [
      "Number of expected ratings for one year with 100 000 draws:\n",
      "  Rating  Expected nr of transitions BBB  Expected nr of transitions A\n",
      "0    AAA                            20.0                          90.0\n",
      "1     AA                           330.0                        2270.0\n",
      "2      A                          5950.0                       91050.0\n",
      "3    BBB                         86930.0                        5520.0\n",
      "4     BB                          5300.0                         740.0\n",
      "5      B                          1170.0                         260.0\n",
      "6    CCC                           120.0                          10.0\n",
      "7      D                           180.0                          60.0\n"
     ]
    }
   ],
   "source": [
    "#1\n",
    "exp_trans = pd.DataFrame()\n",
    "exp_trans['Rating'] = data.Rating\n",
    "exp_trans['Expected nr of transitions BBB'] = round(data.Prob_Loan_BBB*100000, 0)\n",
    "exp_trans['Expected nr of transitions A'] = round(data.Prob_Loan_A*100000, 0)\n",
    "\n",
    "print(\"Number of expected ratings for one year with 100 000 draws:\")    \n",
    "print(exp_trans)\n"
   ]
  },
  {
   "cell_type": "code",
   "execution_count": 20,
   "metadata": {},
   "outputs": [
    {
     "name": "stdout",
     "output_type": "stream",
     "text": [
      "Volatility of portfolio = 3.331332439235088\n",
      "VaR with alpha = 0.99 is 8.540000000000001\n",
      "VaR with alpha = 0.999 is 55.51\n",
      "VaR with alpha = 0.9999 is 55.730000000000004\n"
     ]
    }
   ],
   "source": [
    "#2 \n",
    "losses = []\n",
    "n = 8\n",
    "\n",
    "#Assuming zero asset correlation\n",
    "for i in range(n):\n",
    "    for j in range(n):\n",
    "        losses += [(data.Loss_BBB[i] + data.Loss_A[j], data.Prob_Loan_BBB[i]*data.Prob_Loan_A[j])]\n",
    "      \n",
    "\n",
    "sorted_losses = sorted(losses, key=lambda x: x[0])\n",
    "\n",
    "\n",
    "EX_2 = 0\n",
    "mu = 0 \n",
    "for i in range(n*n):\n",
    "    EX_2 += (sorted_losses[i][0]**2)*sorted_losses[i][1]\n",
    "    mu += sorted_losses[i][0]*sorted_losses[i][1]\n",
    "\n",
    "std_p = np.sqrt(EX_2 - mu**2)\n",
    "print(\"Volatility of portfolio = \" + str(std_p)) #hmm not exactly the same as in instructions... strange\n",
    "\n",
    "\n",
    "alpha = [0.99, 0.999, 0.9999]\n",
    "VaR = [0, 0, 0]\n",
    "#VaR def: min{l: P(L > l) <= 1 - alpha}\n",
    "\n",
    "for i in range(len(alpha)): #looks a bit odd but just do this for the example in L3 slide 19\n",
    "    idx = len(sorted_losses) - 1 #start at the end of sorted losses\n",
    "    prob = 0 #start prob\n",
    "    while prob <= 1 - alpha[i]: #definition of discrete VaR\n",
    "        VaR[i] = sorted_losses[idx][0]\n",
    "        prob += sorted_losses[idx][1] #add up probs\n",
    "        idx -= 1 #go one step left\n",
    "\n",
    "    VaR[i] = sorted_losses[idx-1][0] #discrete distribution, one step further to left gives min l\n",
    "\n",
    "    print(\"VaR with alpha = \" + str(alpha[i]) + \" is \" + str(VaR[i]))\n",
    "\n"
   ]
  },
  {
   "cell_type": "code",
   "execution_count": 14,
   "metadata": {},
   "outputs": [
    {
     "name": "stdout",
     "output_type": "stream",
     "text": [
      "Quantile for BBB loan for rating AAA = 3.5400837992060277\n",
      "Quantile for BBB loan for rating AA = 2.6968442608781205\n",
      "Quantile for BBB loan for rating A = 1.5300675881378283\n",
      "Quantile for BBB loan for rating BBB = 0\n",
      "Quantile for BBB loan for rating BB = -1.493142078325901\n",
      "Quantile for BBB loan for rating B = -2.1780810922893408\n",
      "Quantile for BBB loan for rating CCC = -2.7477813854449926\n",
      "Quantile for BBB loan for rating D = -2.9112377262430056\n",
      "\n",
      "\n",
      "Quantile for A loan for rating AAA = 3.121389149359862\n",
      "Quantile for A loan for rating AA = 1.9845011501354208\n",
      "Quantile for A loan for rating A = 0\n",
      "Quantile for A loan for rating BBB = -1.5070415784970757\n",
      "Quantile for A loan for rating BB = -2.300851965340215\n",
      "Quantile for A loan for rating B = -2.7163805834608654\n",
      "Quantile for A loan for rating CCC = -3.1946510537632866\n",
      "Quantile for A loan for rating D = -3.2388801183529776\n"
     ]
    }
   ],
   "source": [
    "#3a \n",
    "mean = 0\n",
    "std_dev = 1\n",
    "\n",
    "#uncorrelated normal variables\n",
    "np.random.seed(1) # Set random seed for reproducability\n",
    "x1 = np.random.normal(mean,std_dev,100000) # 100,000 random numbers\n",
    "x2 = np.random.normal(mean,std_dev,100000) # 100,000 random numbers\n",
    "#print(scipy.stats.pearsonr(x1, x2)) # Correlation and p-stat for null of correlation=0\n",
    "\n",
    "#3b\n",
    "d_BBB = [] #quantiles for BBB\n",
    "d_A = [] #quantiles for A\n",
    "prob_BBB = 0\n",
    "prob_A = 0\n",
    "n = len(data.Rating)\n",
    "x_BBB = n - 1 #used to keep check of probabilites for BBB, starting backwards\n",
    "x_A= n - 1 #same for A\n",
    "\n",
    "#solution is a bit complicated but that's because we are starting backwards and annoying inidices etc.\n",
    "#easier if you  look at L16 slide 6 for reference\n",
    "for i in range(n):\n",
    "    if data.Rating[n-1-i] == \"BBB\":\n",
    "        d_BBB.append(0) #quantile for itself set to 0, don't update probabilit\n",
    "\n",
    "    else:\n",
    "        prob_BBB += data.Prob_Loan_BBB[x_BBB]\n",
    "        d_BBB.append(norm.ppf(prob_BBB, loc=mean, scale=std_dev))\n",
    "        x_BBB -= 1\n",
    "        \n",
    "\n",
    "    if data.Rating[n-1-i] == \"A\":\n",
    "        d_A.append(0) #quantile for itself set to 0\n",
    "    else:\n",
    "        prob_A += data.Prob_Loan_A[x_A]\n",
    "        d_A.append(norm.ppf(prob_A, loc=mean, scale=std_dev))\n",
    "        x_A -= 1\n",
    "\n",
    "\n",
    "    \n",
    "\n",
    "for i in range(n):\n",
    "    print(\"Quantile for BBB loan for rating \" + data.Rating[i] + \" = \" + str(d_BBB[n - 1 - i]))\n",
    "\n",
    "print(\"\\n\")\n",
    "\n",
    "for i in range(n):\n",
    "    print(\"Quantile for A loan for rating \" + data.Rating[i] + \" = \" + str(d_A[n - 1 - i]))\n",
    "\n",
    "\n",
    "\n",
    "\n"
   ]
  },
  {
   "cell_type": "code",
   "execution_count": 89,
   "metadata": {},
   "outputs": [
    {
     "name": "stdout",
     "output_type": "stream",
     "text": [
      "PearsonRResult(statistic=0.3458375401454312, pvalue=0.0)\n",
      "Seems to be right, around 0.35. Not exact because x1 and x2 actually have a very low correlation since it's not perfectly random.\n"
     ]
    }
   ],
   "source": [
    "#4\n",
    "R = 0.35\n",
    "q1 = x1\n",
    "q2 = R*x1+np.sqrt(1-R**2)*x2 # Cholesky decomposition VL16 slides 13-15\n",
    "print(scipy.stats.pearsonr(q1, q2)) # Correlation and p-stat for null of correlation=0\n",
    "print(\"Seems to be right, around 0.35. Not exact because x1 and x2 actually have a very low correlation since it's not perfectly random.\")"
   ]
  },
  {
   "cell_type": "code",
   "execution_count": 90,
   "metadata": {},
   "outputs": [
    {
     "name": "stdout",
     "output_type": "stream",
     "text": [
      "[ 1.62434536 -0.61175641 -0.52817175 ...  0.08122531  0.34404618\n",
      " -0.74755625]\n"
     ]
    }
   ],
   "source": [
    "print(q1)"
   ]
  },
  {
   "cell_type": "code",
   "execution_count": 91,
   "metadata": {},
   "outputs": [
    {
     "name": "stdout",
     "output_type": "stream",
     "text": [
      "[3.5400837992060277, 2.6968442608781205, 1.5300675881378283, 0, -1.493142078325901, -2.1780810922893408, -2.7477813854449926, -2.9112377262430056]\n",
      "[3.121389149359862, 1.9845011501354208, 0, -1.5070415784970757, -2.300851965340215, -2.7163805834608654, -3.1946510537632866, -3.2388801183529776]\n"
     ]
    }
   ],
   "source": [
    "#reversing order just to make things simpler below\n",
    "quant_BBB = d_BBB[::-1]\n",
    "quant_A = d_A[::-1]\n",
    "print(quant_BBB)\n",
    "print(quant_A)"
   ]
  },
  {
   "cell_type": "code",
   "execution_count": 92,
   "metadata": {},
   "outputs": [
    {
     "name": "stderr",
     "output_type": "stream",
     "text": [
      "C:\\Users\\Erik\\AppData\\Local\\Temp\\ipykernel_11324\\2773867471.py:17: SettingWithCopyWarning: \n",
      "A value is trying to be set on a copy of a slice from a DataFrame\n",
      "\n",
      "See the caveats in the documentation: https://pandas.pydata.org/pandas-docs/stable/user_guide/indexing.html#returning-a-view-versus-a-copy\n",
      "  transitions['nr of transitions BBB'][i + 1] += 1\n",
      "C:\\Users\\Erik\\AppData\\Local\\Temp\\ipykernel_11324\\2773867471.py:23: SettingWithCopyWarning: \n",
      "A value is trying to be set on a copy of a slice from a DataFrame\n",
      "\n",
      "See the caveats in the documentation: https://pandas.pydata.org/pandas-docs/stable/user_guide/indexing.html#returning-a-view-versus-a-copy\n",
      "  transitions['nr of transitions BBB'][i] += 1\n",
      "C:\\Users\\Erik\\AppData\\Local\\Temp\\ipykernel_11324\\2773867471.py:11: SettingWithCopyWarning: \n",
      "A value is trying to be set on a copy of a slice from a DataFrame\n",
      "\n",
      "See the caveats in the documentation: https://pandas.pydata.org/pandas-docs/stable/user_guide/indexing.html#returning-a-view-versus-a-copy\n",
      "  transitions['nr of transitions BBB'][0] += 1\n",
      "C:\\Users\\Erik\\AppData\\Local\\Temp\\ipykernel_11324\\2773867471.py:13: SettingWithCopyWarning: \n",
      "A value is trying to be set on a copy of a slice from a DataFrame\n",
      "\n",
      "See the caveats in the documentation: https://pandas.pydata.org/pandas-docs/stable/user_guide/indexing.html#returning-a-view-versus-a-copy\n",
      "  transitions['nr of transitions BBB'][7] += 1\n",
      "C:\\Users\\Erik\\AppData\\Local\\Temp\\ipykernel_11324\\2773867471.py:36: SettingWithCopyWarning: \n",
      "A value is trying to be set on a copy of a slice from a DataFrame\n",
      "\n",
      "See the caveats in the documentation: https://pandas.pydata.org/pandas-docs/stable/user_guide/indexing.html#returning-a-view-versus-a-copy\n",
      "  transitions['nr of transitions A'][i + 1] += 1\n",
      "C:\\Users\\Erik\\AppData\\Local\\Temp\\ipykernel_11324\\2773867471.py:42: SettingWithCopyWarning: \n",
      "A value is trying to be set on a copy of a slice from a DataFrame\n",
      "\n",
      "See the caveats in the documentation: https://pandas.pydata.org/pandas-docs/stable/user_guide/indexing.html#returning-a-view-versus-a-copy\n",
      "  transitions['nr of transitions A'][i] += 1\n",
      "C:\\Users\\Erik\\AppData\\Local\\Temp\\ipykernel_11324\\2773867471.py:30: SettingWithCopyWarning: \n",
      "A value is trying to be set on a copy of a slice from a DataFrame\n",
      "\n",
      "See the caveats in the documentation: https://pandas.pydata.org/pandas-docs/stable/user_guide/indexing.html#returning-a-view-versus-a-copy\n",
      "  transitions['nr of transitions A'][0] += 1\n",
      "C:\\Users\\Erik\\AppData\\Local\\Temp\\ipykernel_11324\\2773867471.py:32: SettingWithCopyWarning: \n",
      "A value is trying to be set on a copy of a slice from a DataFrame\n",
      "\n",
      "See the caveats in the documentation: https://pandas.pydata.org/pandas-docs/stable/user_guide/indexing.html#returning-a-view-versus-a-copy\n",
      "  transitions['nr of transitions A'][7] += 1\n"
     ]
    }
   ],
   "source": [
    "#5 Assignment was only for BBB but I do it for A to check if algorithm in next part is correct.\n",
    "transitions = pd.DataFrame()\n",
    "transitions['Rating'] = data.Rating\n",
    "transitions['nr of transitions BBB'] = 0\n",
    "transitions['nr of transitions A'] = 0\n",
    "\n",
    "\n",
    "for elm in q1:\n",
    "    #AAAand D are special cases\n",
    "    if elm >= quant_BBB[0]:\n",
    "        transitions['nr of transitions BBB'][0] += 1\n",
    "    elif elm < quant_BBB[7]:\n",
    "        transitions['nr of transitions BBB'][7] += 1\n",
    "    else: #starting from AAA and going down to BBB\n",
    "        for i in [0, 1, 2]:\n",
    "            if quant_BBB[i + 1] <= elm  and elm < quant_BBB[i]:\n",
    "                transitions['nr of transitions BBB'][i + 1] += 1\n",
    "                break\n",
    "\n",
    "        ##starting from BBB and going down to D\n",
    "        for i in [3, 4, 5, 6]:\n",
    "            if quant_BBB[i + 1] <= elm  and elm < quant_BBB[i]:\n",
    "                transitions['nr of transitions BBB'][i] += 1\n",
    "                break\n",
    "\n",
    "\n",
    "for elm in q1:\n",
    "    #AAAand D are special cases\n",
    "    if elm >= quant_A[0]:\n",
    "        transitions['nr of transitions A'][0] += 1\n",
    "    elif elm < quant_A[7]:\n",
    "        transitions['nr of transitions A'][7] += 1\n",
    "    else: #starting from AAA and going down to BBB\n",
    "        for i in [0, 1]:\n",
    "            if quant_A[i + 1] <= elm  and elm < quant_A[i]:\n",
    "                transitions['nr of transitions A'][i + 1] += 1\n",
    "                break\n",
    "\n",
    "        ##starting from BBB and going down to D\n",
    "        for i in [2, 3, 4, 5, 6]:\n",
    "            if quant_A[i + 1] <= elm  and elm < quant_A[i]:\n",
    "                transitions['nr of transitions A'][i] += 1\n",
    "                break\n"
   ]
  },
  {
   "cell_type": "code",
   "execution_count": 93,
   "metadata": {},
   "outputs": [
    {
     "name": "stdout",
     "output_type": "stream",
     "text": [
      "  Rating  Expected nr of transitions BBB  Expected nr of transitions A\n",
      "0    AAA                            20.0                          90.0\n",
      "1     AA                           330.0                        2270.0\n",
      "2      A                          5950.0                       91050.0\n",
      "3    BBB                         86930.0                        5520.0\n",
      "4     BB                          5300.0                         740.0\n",
      "5      B                          1170.0                         260.0\n",
      "6    CCC                           120.0                          10.0\n",
      "7      D                           180.0                          60.0\n",
      "\n",
      "\n",
      "  Rating  nr of transitions BBB  nr of transitions A\n",
      "0    AAA                     22                   98\n",
      "1     AA                    348                 2270\n",
      "2      A                   5996                91239\n",
      "3    BBB                  87065                 5337\n",
      "4     BB                   5140                  726\n",
      "5      B                   1124                  249\n",
      "6    CCC                    116                   11\n",
      "7      D                    189                   70\n",
      "\n",
      "As you can see the expected values and simulated values are very similar for a random normally dist. sample.\n"
     ]
    }
   ],
   "source": [
    "print(exp_trans)\n",
    "print(\"\\n\")\n",
    "print(transitions)\n",
    "print(\"\\n\" + \"As you can see the expected values and simulated values are very similar for a random normally dist. sample.\")"
   ]
  },
  {
   "cell_type": "code",
   "execution_count": 94,
   "metadata": {},
   "outputs": [],
   "source": [
    "#6\n",
    "MC_losses = [] #monte carlo losses\n",
    "\n",
    "quant_BBB = d_BBB[::-1]\n",
    "quant_A = d_A[::-1]\n",
    "\n",
    "for tuple in zip(q1, q2):\n",
    "    loss = 0\n",
    "    b = tuple[0]\n",
    "    a = tuple[1]\n",
    "\n",
    "    #BBB bond\n",
    "    if b >= quant_BBB[0]:\n",
    "        loss += data.Loss_BBB[0]\n",
    "    elif b < quant_BBB[7]:\n",
    "        loss += data.Loss_BBB[7]\n",
    "    else: #starting from AAA and going down to BBB\n",
    "        for i in [0, 1, 2]:\n",
    "            if quant_BBB[i + 1] <= b  and b < quant_BBB[i]:\n",
    "                loss += data.Loss_BBB[i+1]\n",
    "                break\n",
    "\n",
    "        ##starting from BBB and going down to D\n",
    "        for i in [3, 4, 5, 6]:\n",
    "            if quant_BBB[i + 1] <= b and b < quant_BBB[i]:\n",
    "                loss += data.Loss_BBB[i]\n",
    "                break    \n",
    "\n",
    "    #A bond\n",
    "    if a >= quant_A[0]:\n",
    "        loss += data.Loss_A[0]\n",
    "    elif a < quant_A[7]:\n",
    "        loss += data.Loss_A[7]\n",
    "    else: #starting from AAA and going down to A\n",
    "        for i in [0, 1]:\n",
    "            if quant_A[i + 1] <= a  and a < quant_A[i]:\n",
    "                loss += data.Loss_A[i+1]\n",
    "                break\n",
    "\n",
    "        ##starting from A and going down to D\n",
    "        for i in [2, 3, 4, 5, 6]:\n",
    "            if quant_A[i + 1] <= a and a < quant_A[i]:\n",
    "                loss += data.Loss_A[i]\n",
    "                break    \n",
    "    \n",
    "    MC_losses.append(loss) #add loss to vector\n",
    "    \n"
   ]
  },
  {
   "cell_type": "code",
   "execution_count": 95,
   "metadata": {},
   "outputs": [
    {
     "data": {
      "image/png": "[encoded data removed]",
      "text/plain": [
       "<Figure size 640x480 with 1 Axes>"
      ]
     },
     "metadata": {},
     "output_type": "display_data"
    }
   ],
   "source": [
    "num_bins = 50\n",
    "\n",
    "# Create the histogram\n",
    "plt.hist(MC_losses, bins=num_bins, color='blue', density = True)\n",
    "\n",
    "\n",
    "# Add labels and title\n",
    "plt.xlabel('Loss')\n",
    "plt.ylabel('pdf')\n",
    "plt.title('Loss distribution')\n",
    "\n",
    "# Display the plot\n",
    "plt.show()"
   ]
  },
  {
   "cell_type": "code",
   "execution_count": 96,
   "metadata": {},
   "outputs": [
    {
     "name": "stdout",
     "output_type": "stream",
     "text": [
      "[8.870000000000001, 55.84, 64.95]\n",
      "[8.540000000000001, 55.51, 55.730000000000004]\n"
     ]
    }
   ],
   "source": [
    "#7 BHS\n",
    "sorted_MC_losses = sorted(MC_losses, key=lambda x: x, reverse=True)\n",
    "\n",
    "alpha = [0.99, 0.999, 0.9999]\n",
    "\n",
    "N = 100000\n",
    "\n",
    "VaR_sim = []\n",
    "\n",
    "for i in range(len(alpha)):\n",
    "    idx = int((1-alpha[i])*N + 1)\n",
    "    VaR_sim.append(sorted_MC_losses[idx-1])\n",
    "\n",
    "print(VaR_sim)\n",
    "print(VaR)"
   ]
  },
  {
   "cell_type": "markdown",
   "metadata": {},
   "source": [
    "VaR_sim with R = 0.35: [8.87, 55.84, 64.95]\n",
    "\n",
    "VaR_sim with R = 0: [8.87, 55.84, 57.04]\n",
    "\n",
    "VaR_predicted = [8.54, 55.51, 55.73]"
   ]
  },
  {
   "cell_type": "markdown",
   "metadata": {},
   "source": [
    "8a: If you look at the loss distribution: For low VaR levels it is somewhat similar to a normal distribution, but the problem is that the loss distribution has a very long tail so for more extreme VaR there is a large difference.\n",
    "\n",
    "8b: It doesn't matter that much for low VaR levels but for high VaR levels (high alpha) it matters a lot. Think about this way: The most extreme values p1 and p2 have a low probability. If two assets are uncorrelated (rho = 0) the probability p1 * p2 will also be very low. However if the assets have a perfect correlation (rho=1) then extreme events will always occur together and so the probability for very high losses will also increase. \n"
   ]
  }
 ],
 "metadata": {
  "kernelspec": {
   "display_name": "base",
   "language": "python",
   "name": "python3"
  },
  "language_info": {
   "codemirror_mode": {
    "name": "ipython",
    "version": 3
   },
   "file_extension": ".py",
   "mimetype": "text/x-python",
   "name": "python",
   "nbconvert_exporter": "python",
   "pygments_lexer": "ipython3",
   "version": "3.11.4"
  }
 },
 "nbformat": 4,
 "nbformat_minor": 2
}
